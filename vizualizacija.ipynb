{
 "cells": [
  {
   "cell_type": "code",
   "execution_count": 321,
   "metadata": {},
   "outputs": [
    {
     "data": {
      "text/plain": [
       "MultiIndex([('neto',    'mean'),\n",
       "            ('neto',  'median'),\n",
       "            ('neto',   'count'),\n",
       "            ( 'foh', 'nunique')],\n",
       "           )"
      ]
     },
     "execution_count": 321,
     "metadata": {},
     "output_type": "execute_result"
    }
   ],
   "source": [
    "import pandas as pd\n",
    "import os\n",
    "import json\n",
    "import re\n",
    "import decimal\n",
    "\n",
    "def extract_date(filename):\n",
    "    pattern = r\"\\d{4}-\\d{2}-\\d{2}\"\n",
    "    match = re.search(pattern, filename)\n",
    "    if match:\n",
    "        return match.group(0)\n",
    "    else:\n",
    "        return None\n",
    "\n",
    "# Define the directory where the JSON files are located\n",
    "directory = 'podatki/'\n",
    "\n",
    "# Initialize an empty list to store the data\n",
    "data = []\n",
    "\n",
    "# Loop over each file in the directory and extract the data\n",
    "for filename in os.listdir(directory):\n",
    "    if filename.endswith('.json'):\n",
    "        with open(os.path.join(directory, filename)) as file:\n",
    "            # Extract the date from the filename\n",
    "            date = extract_date(filename)\n",
    "            # Load the JSON data\n",
    "            jobs = json.load(file)\n",
    "            # Loop over each job and add it to the data list\n",
    "            for job in jobs:\n",
    "                foh = job['foh']\n",
    "                lokacija = job['lokacija']\n",
    "                neto_number = None\n",
    "                try:\n",
    "                    neto_number = float(job['neto'])\n",
    "                except ValueError:\n",
    "                    pass\n",
    "                neto = job['neto']\n",
    "                data.append({'foh': foh, 'lokacija': lokacija, 'neto': neto_number, 'datum': date})\n",
    "\n",
    "# Create a pandas DataFrame from the data\n",
    "jobs = pd.DataFrame(data)\n",
    "jobs_with_salary = jobs.dropna(subset=['neto'])\n",
    "\n",
    "jobs_by_date = jobs_with_salary.groupby('datum').agg({\n",
    "    'neto': ['mean', 'median', 'count'],\n",
    "    'foh': ['nunique'],\n",
    "})\n",
    "jobs_by_date.columns\n"
   ]
  },
  {
   "attachments": {},
   "cell_type": "markdown",
   "metadata": {},
   "source": [
    "# Statistics"
   ]
  },
  {
   "cell_type": "code",
   "execution_count": 322,
   "metadata": {},
   "outputs": [
    {
     "name": "stdout",
     "output_type": "stream",
     "text": [
      "Number of all jobs: 55755\n",
      "Number of salaries with undefined salary: 3092\n"
     ]
    }
   ],
   "source": [
    "\n",
    "print(f\"Number of all jobs: {len(jobs)}\")\n",
    "number_of_null_salaries = len(jobs[jobs['neto'].isnull()])\n",
    "print(f\"Number of salaries with undefined salary: {number_of_null_salaries}\")"
   ]
  },
  {
   "cell_type": "code",
   "execution_count": 323,
   "metadata": {},
   "outputs": [
    {
     "data": {
      "image/png": "[encoded data removed]",
      "text/plain": [
       "<Figure size 432x288 with 1 Axes>"
      ]
     },
     "metadata": {
      "needs_background": "light"
     },
     "output_type": "display_data"
    }
   ],
   "source": [
    "import matplotlib.pyplot as plt\n",
    "import matplotlib.dates as mdates\n",
    "from datetime import datetime\n",
    "\n",
    "# Group the jobs_with_salary DataFrame by date and calculate the mean and median salaries\n",
    "jobs_by_date = jobs_with_salary.groupby('datum').agg({'neto': ['mean', 'median', 'count'], 'foh': 'nunique'})\n",
    "\n",
    "# Extract the 'neto' column and its mean and median values\n",
    "neto_mean = jobs_by_date[('neto', 'mean')]\n",
    "neto_median = jobs_by_date[('neto', 'median')]\n",
    "\n",
    "# Calculate the interquartile range of the 'neto' column\n",
    "neto_q1 = jobs_with_salary['neto'].quantile(0.25)\n",
    "neto_q3 = jobs_with_salary['neto'].quantile(0.75)\n",
    "neto_iqr = neto_q3 - neto_q1\n",
    "\n",
    "# Set the y-axis limits to the 5th and 95th percentiles of the 'neto' column\n",
    "y_min = max(jobs_with_salary['neto'].min(), neto_q1 - 1.5*neto_iqr)\n",
    "y_max = min(jobs_with_salary['neto'].max(), neto_q3 + 1.5*neto_iqr)\n",
    "\n",
    "# Convert the date strings to datetime objects\n",
    "dates = [datetime.strptime(date_str, '%Y-%m-%d') for date_str in jobs_by_date.index]\n",
    "\n",
    "# Create a figure and axis object\n",
    "fig, ax = plt.subplots()\n",
    "\n",
    "# Plot the mean and median values as a function of time\n",
    "ax.plot(dates, neto_mean, label='Neto Mean')\n",
    "ax.plot(dates, neto_median, label='Neto Median')\n",
    "\n",
    "# Set the y-axis limits based on the IQR\n",
    "ax.set_ylim(y_min, y_max)\n",
    "\n",
    "# Set the x-axis ticks to display only the first date, middle date, and last date\n",
    "n_dates = len(jobs_by_date)\n",
    "ax.set_xticks([dates[0], dates[n_dates//2], dates[-1]])\n",
    "\n",
    "# Format the x-axis ticks as month names with years\n",
    "date_formatter = mdates.DateFormatter('%b %Y')\n",
    "ax.xaxis.set_major_formatter(date_formatter)\n",
    "\n",
    "# Add axis labels and a legend\n",
    "ax.set_xlabel('Date')\n",
    "ax.set_ylabel('Neto (€)')\n",
    "ax.set_title('Neto Salaries by Date')\n",
    "ax.legend()\n",
    "\n",
    "# Show the plot\n",
    "plt.show()\n"
   ]
  },
  {
   "cell_type": "code",
   "execution_count": 324,
   "metadata": {},
   "outputs": [
    {
     "data": {
      "text/plain": [
       "MultiIndex([('neto',    'mean'),\n",
       "            ('neto',  'median'),\n",
       "            ('neto',   'count'),\n",
       "            ( 'foh', 'nunique')],\n",
       "           )"
      ]
     },
     "execution_count": 324,
     "metadata": {},
     "output_type": "execute_result"
    }
   ],
   "source": [
    "# all possiblee datum values\n",
    "possible_datum = jobs['datum'].unique()\n",
    "jobs_by_date.columns"
   ]
  }
 ],
 "metadata": {
  "kernelspec": {
   "display_name": "Python 3",
   "language": "python",
   "name": "python3"
  },
  "language_info": {
   "codemirror_mode": {
    "name": "ipython",
    "version": 3
   },
   "file_extension": ".py",
   "mimetype": "text/x-python",
   "name": "python",
   "nbconvert_exporter": "python",
   "pygments_lexer": "ipython3",
   "version": "3.9.1"
  },
  "orig_nbformat": 4
 },
 "nbformat": 4,
 "nbformat_minor": 2
}
