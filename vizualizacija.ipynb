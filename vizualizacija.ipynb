{
 "cells": [
  {
   "cell_type": "code",
   "execution_count": 173,
   "metadata": {},
   "outputs": [
    {
     "data": {
      "text/plain": [
       "MultiIndex([('neto',    'mean'),\n",
       "            ('neto',  'median'),\n",
       "            ('neto',   'count'),\n",
       "            ( 'foh', 'nunique')],\n",
       "           )"
      ]
     },
     "execution_count": 173,
     "metadata": {},
     "output_type": "execute_result"
    }
   ],
   "source": [
    "import pandas as pd\n",
    "import os\n",
    "import json\n",
    "import re\n",
    "import decimal\n",
    "\n",
    "def extract_date(filename):\n",
    "    pattern = r\"\\d{4}-\\d{2}-\\d{2}\"\n",
    "    match = re.search(pattern, filename)\n",
    "    if match:\n",
    "        return match.group(0)\n",
    "    else:\n",
    "        return None\n",
    "\n",
    "# Define the directory where the JSON files are located\n",
    "directory = 'podatki/'\n",
    "\n",
    "# Initialize an empty list to store the data\n",
    "data = []\n",
    "\n",
    "# Loop over each file in the directory and extract the data\n",
    "for filename in os.listdir(directory):\n",
    "    if filename.endswith('.json'):\n",
    "        with open(os.path.join(directory, filename)) as file:\n",
    "            # Extract the date from the filename\n",
    "            date = extract_date(filename)\n",
    "            # Load the JSON data\n",
    "            jobs = json.load(file)\n",
    "            # Loop over each job and add it to the data list\n",
    "            for job in jobs:\n",
    "                foh = job['foh']\n",
    "                lokacija = job['lokacija']\n",
    "                neto_number = None\n",
    "                # do nothing if neto is not a number\n",
    "                try:\n",
    "                    neto_number = decimal.Decimal(job['neto'])\n",
    "                except:\n",
    "                    pass\n",
    "                neto = job['neto']\n",
    "                data.append({'foh': foh, 'lokacija': lokacija, 'neto': neto_number, 'datum': date})\n",
    "\n",
    "# Create a pandas DataFrame from the data\n",
    "jobs = pd.DataFrame(data)\n",
    "jobs_with_salary = jobs.dropna(subset=['neto'])\n",
    "\n",
    "jobs_by_date = jobs_with_salary.groupby('datum').agg({\n",
    "    'neto': ['mean', 'median', 'count'],\n",
    "    'foh': ['nunique'],\n",
    "})\n",
    "jobs_by_date.columns\n"
   ]
  },
  {
   "attachments": {},
   "cell_type": "markdown",
   "metadata": {},
   "source": [
    "# Statistics"
   ]
  },
  {
   "cell_type": "code",
   "execution_count": 174,
   "metadata": {},
   "outputs": [
    {
     "name": "stdout",
     "output_type": "stream",
     "text": [
      "Number of all jobs: 55755\n",
      "Number of salaries with undefined salary: 3092\n"
     ]
    }
   ],
   "source": [
    "\n",
    "print(f\"Number of all jobs: {len(jobs)}\")\n",
    "number_of_null_salaries = len(jobs[jobs['neto'].isnull()])\n",
    "print(f\"Number of salaries with undefined salary: {number_of_null_salaries}\")"
   ]
  },
  {
   "cell_type": "code",
   "execution_count": 175,
   "metadata": {},
   "outputs": [
    {
     "data": {
      "image/png": "[encoded data removed]",
      "text/plain": [
       "<Figure size 432x288 with 1 Axes>"
      ]
     },
     "metadata": {
      "needs_background": "light"
     },
     "output_type": "display_data"
    }
   ],
   "source": [
    "import matplotlib.pyplot as plt\n",
    "\n",
    "# Extract the 'neto' column and its mean and median values\n",
    "neto_mean = jobs_by_date[('neto', 'mean')]\n",
    "neto_median = jobs_by_date[('neto', 'median')]\n",
    "\n",
    "# Create a figure and axis object\n",
    "fig, ax = plt.subplots()\n",
    "\n",
    "# Plot the mean and median values as a function of time\n",
    "ax.plot(jobs_by_date.index, neto_mean, label='Neto Mean')\n",
    "ax.plot(jobs_by_date.index, neto_median, label='Neto Median')\n",
    "\n",
    "# Set the x-axis ticks to display only the first date, middle date, and last date\n",
    "n_dates = len(jobs_by_date)\n",
    "ax.set_xticks([jobs_by_date.index[0], jobs_by_date.index[n_dates//2], jobs_by_date.index[-1]])\n",
    "\n",
    "# Add axis labels and a legend\n",
    "ax.set_xlabel('Date')\n",
    "ax.set_ylabel('Salary (Neto)')\n",
    "ax.legend()\n",
    "\n",
    "# Show the plot\n",
    "plt.show()\n"
   ]
  }
 ],
 "metadata": {
  "kernelspec": {
   "display_name": "Python 3",
   "language": "python",
   "name": "python3"
  },
  "language_info": {
   "codemirror_mode": {
    "name": "ipython",
    "version": 3
   },
   "file_extension": ".py",
   "mimetype": "text/x-python",
   "name": "python",
   "nbconvert_exporter": "python",
   "pygments_lexer": "ipython3",
   "version": "3.9.1"
  },
  "orig_nbformat": 4
 },
 "nbformat": 4,
 "nbformat_minor": 2
}
